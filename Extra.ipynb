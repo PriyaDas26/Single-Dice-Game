{
 "cells": [
  {
   "cell_type": "code",
   "execution_count": 2,
   "id": "f1c014de-2edc-4f2f-a20a-9816b5076c9a",
   "metadata": {},
   "outputs": [
    {
     "name": "stdin",
     "output_type": "stream",
     "text": [
      "Would you like to roll the dice [y/n]?\n",
      " y\n"
     ]
    },
    {
     "name": "stdout",
     "output_type": "stream",
     "text": [
      "3\n",
      "odd\n"
     ]
    },
    {
     "name": "stdin",
     "output_type": "stream",
     "text": [
      "Would you like to roll the dice [y/n]?\n",
      " y\n"
     ]
    },
    {
     "name": "stdout",
     "output_type": "stream",
     "text": [
      "2\n",
      "The value of the die is Even\n",
      "bet price is :\n",
      "4\n"
     ]
    },
    {
     "name": "stdin",
     "output_type": "stream",
     "text": [
      "Would you like to roll the dice [y/n]?\n",
      " y\n"
     ]
    },
    {
     "name": "stdout",
     "output_type": "stream",
     "text": [
      "3\n",
      "odd\n"
     ]
    },
    {
     "name": "stdin",
     "output_type": "stream",
     "text": [
      "Would you like to roll the dice [y/n]?\n",
      " n\n"
     ]
    },
    {
     "name": "stdout",
     "output_type": "stream",
     "text": [
      "Good-bye!\n"
     ]
    }
   ],
   "source": [
    "import random\n",
    "\n",
    "question = input('Would you like to roll the dice [y/n]?\\n')\n",
    "\n",
    "while question != 'n':\n",
    "    if question == 'y':\n",
    "        die = random.randint(1, 6)\n",
    "        print(die)\n",
    "        if (die % 2) ==0:\n",
    "            print(\"The value of the die is Even\")\n",
    "            print(\"bet price is :\")\n",
    "            print(die **2)\n",
    "            \n",
    "        else :\n",
    "            print(\"odd\")\n",
    "\n",
    "        question = input('Would you like to roll the dice [y/n]?\\n')\n",
    "    else:\n",
    "        print('Invalid response. Please type \"y\" or \"n\".')\n",
    "        question = input('Would you like to roll the dice [y/n]?\\n')        \n",
    "\n",
    "print('Good-bye!')"
   ]
  },
  {
   "cell_type": "code",
   "execution_count": null,
   "id": "25566c85-6ac9-4471-9380-bd7dca43c354",
   "metadata": {},
   "outputs": [],
   "source": []
  }
 ],
 "metadata": {
  "kernelspec": {
   "display_name": "Python 3",
   "language": "python",
   "name": "python3"
  },
  "language_info": {
   "codemirror_mode": {
    "name": "ipython",
    "version": 3
   },
   "file_extension": ".py",
   "mimetype": "text/x-python",
   "name": "python",
   "nbconvert_exporter": "python",
   "pygments_lexer": "ipython3",
   "version": "3.8.8"
  }
 },
 "nbformat": 4,
 "nbformat_minor": 5
}
